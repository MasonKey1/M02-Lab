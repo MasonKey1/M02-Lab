{
 "cells": [
  {
   "cell_type": "code",
   "execution_count": 1,
   "id": "e67b2d26",
   "metadata": {},
   "outputs": [
    {
     "name": "stdout",
     "output_type": "stream",
     "text": [
      "Enter student's last name (enter 'ZZZ' to quit): Justice\n",
      "Enter student's first name: Josh\n",
      "Enter student's GPA: 3.68\n",
      "Josh Justice has made the Dean's List.\n",
      "Enter student's last name (enter 'ZZZ' to quit): Jacobs\n",
      "Enter student's first name: Mark\n",
      "Enter student's GPA: 2.8\n",
      "Mark Jacobs does not qualify for Dean's List or Honor Roll.\n",
      "Enter student's last name (enter 'ZZZ' to quit): Key\n",
      "Enter student's first name: Mason\n",
      "Enter student's GPA: 4.0\n",
      "Mason Key has made the Dean's List.\n",
      "Enter student's last name (enter 'ZZZ' to quit): Romines\n",
      "Enter student's first name: Gina\n",
      "Enter student's GPA: 3.99\n",
      "Gina Romines has made the Dean's List.\n",
      "Enter student's last name (enter 'ZZZ' to quit): Smith\n",
      "Enter student's first name: Sydney\n",
      "Enter student's GPA: 3.6\n",
      "Sydney Smith has made the Dean's List.\n",
      "Enter student's last name (enter 'ZZZ' to quit): ZZZ\n"
     ]
    }
   ],
   "source": [
    "#Author: Mason Key\n",
    "#M02 Lab Case Study\n",
    "#using a while loop to determine if a inputted student is on the honor roll or deans list. \n",
    "\n",
    "while True:\n",
    "    \n",
    "    last_name = input(\"Enter student's last name (enter 'ZZZ' to quit): \")\n",
    "    if last_name == 'ZZZ':\n",
    "        break\n",
    "\n",
    "    # Accept student's first name\n",
    "    first_name = input(\"Enter student's first name: \")\n",
    "\n",
    "    # Accept student's GPA\n",
    "    gpa = float(input(\"Enter student's GPA: \"))\n",
    "\n",
    "    # Check if student qualifies for Dean's List or Honor Roll\n",
    "    if gpa >= 3.5:\n",
    "        print(f\"{first_name} {last_name} has made the Dean's List.\")\n",
    "    elif gpa >= 3.25:\n",
    "        print(f\"{first_name} {last_name} has made the Honor Roll.\")\n",
    "    else:\n",
    "        print(f\"{first_name} {last_name} does not qualify for Dean's List or Honor Roll.\")\n"
   ]
  },
  {
   "cell_type": "code",
   "execution_count": null,
   "id": "05037435",
   "metadata": {},
   "outputs": [],
   "source": []
  }
 ],
 "metadata": {
  "kernelspec": {
   "display_name": "Python 3 (ipykernel)",
   "language": "python",
   "name": "python3"
  },
  "language_info": {
   "codemirror_mode": {
    "name": "ipython",
    "version": 3
   },
   "file_extension": ".py",
   "mimetype": "text/x-python",
   "name": "python",
   "nbconvert_exporter": "python",
   "pygments_lexer": "ipython3",
   "version": "3.10.9"
  }
 },
 "nbformat": 4,
 "nbformat_minor": 5
}
